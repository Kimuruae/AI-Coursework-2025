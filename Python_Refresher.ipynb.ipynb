{
  "cells": [
    {
      "cell_type": "markdown",
      "metadata": {
        "id": "h0g6WZFXWne7"
      },
      "source": [
        "## Basics of Python Programming"
      ]
    },
    {
      "cell_type": "markdown",
      "metadata": {
        "id": "bMmRrskEcZ1H"
      },
      "source": [
        "### Importing Libraries"
      ]
    },
    {
      "cell_type": "code",
      "execution_count": null,
      "metadata": {
        "id": "ai1Kx7xzcctT"
      },
      "outputs": [
        {
          "name": "stdout",
          "output_type": "stream",
          "text": [
            "7 days are 604800 seconds.\n"
          ]
        }
      ],
      "source": [
        "#1\n",
        "import time\n",
        "# for libraries you might not have, install first using pip\n",
        "days = int(input(\"Please enter number of days: \"))\n",
        "sec = 60*60*24 #Number of seconds in a single day.\n",
        "\n",
        "print(f\"{days} days are {days*sec} seconds.\")"
      ]
    },
    {
      "cell_type": "markdown",
      "metadata": {
        "id": "OEsBn7jwXkQx"
      },
      "source": [
        "### Input and Output"
      ]
    },
    {
      "cell_type": "code",
      "execution_count": null,
      "metadata": {
        "colab": {
          "base_uri": "https://localhost:8080/"
        },
        "id": "TbNZIQUYXpbj",
        "outputId": "0def4203-4251-498e-93da-b889422b8a28"
      },
      "outputs": [
        {
          "name": "stdout",
          "output_type": "stream",
          "text": [
            "The volume of the sphere is 1436.0266666666666\n"
          ]
        }
      ],
      "source": [
        "#2 Calculating the volume of a sphere\n",
        "import math # for mathematical functions\n",
        "radius = float(input(\"Enter the radius of the sphere: \")) # This directs the user  to input the radius of the sphere\n",
        "Volume = 4/3 * 3.14 * radius**3 # Volume of sphere formula\n",
        "print(f\"The volume of the sphere is {Volume}\") #Output the volume of the sphere"
      ]
    },
    {
      "cell_type": "code",
      "execution_count": null,
      "metadata": {
        "id": "at6osNfBXtL6"
      },
      "outputs": [
        {
          "name": "stdout",
          "output_type": "stream",
          "text": [
            "The area of the square is 144.0 and the perimeter of the square is  48.0\n"
          ]
        }
      ],
      "source": [
        "#3 Computing the area and perimeter a squire\n",
        "def area(side): # defining the area function \n",
        "    return side * side\n",
        "\n",
        "def perimeter(side): # defining the perimeter function\n",
        "    return 4 * side\n",
        "side = float(input(\"What's the length of the square's side? \")) # user input for the length of the square's side\n",
        "\n",
        "a = area(side) # calling the area function\n",
        "p = perimeter(side) # calling the perimeter function\n",
        " #To output the area and perimeter of the square according to the user input,\n",
        "print(\"The area of the square is\", (a), \"and the perimeter of the square is \",(p)) # output the area"
      ]
    },
    {
      "cell_type": "markdown",
      "metadata": {
        "id": "xjoaIuKoYVgP"
      },
      "source": [
        "### Conditional Structures"
      ]
    },
    {
      "cell_type": "code",
      "execution_count": null,
      "metadata": {
        "colab": {
          "base_uri": "https://localhost:8080/",
          "height": 124
        },
        "id": "AJlgkr3dYkTA",
        "outputId": "c459c2ae-2dcc-4ca0-c815-518e8757b1a4"
      },
      "outputs": [
        {
          "name": "stdout",
          "output_type": "stream",
          "text": [
            "This is an uppercase character.\n"
          ]
        }
      ],
      "source": [
        "#4 A programme to check  whether a character is an uppercase or lowercase letter\n",
        "char = input(\"Enter a character: \")  #Input from user\n",
        "   \n",
        "def check_case(char):\n",
        "    if char.isupper():\n",
        "        return \"This is an uppercase character.\"\n",
        "    elif char.islower():\n",
        "        return \"This is a lowercase character\"\n",
        "    else:\n",
        "        return \"Not a letter\"\n",
        "    \n",
        "print(check_case(char)) "
      ]
    },
    {
      "cell_type": "markdown",
      "metadata": {
        "id": "8pef_rm6aJzT"
      },
      "source": [
        "### Iterative Structures"
      ]
    },
    {
      "cell_type": "code",
      "execution_count": null,
      "metadata": {
        "colab": {
          "base_uri": "https://localhost:8080/"
        },
        "id": "L8LlTWrxaI8l",
        "outputId": "23539c90-cc00-4e3d-c881-cd83c32601c9"
      },
      "outputs": [
        {
          "name": "stdout",
          "output_type": "stream",
          "text": [
            "The value of x =  1.0416666666666665\n"
          ]
        }
      ],
      "source": [
        "#5 Converting provided pseudocode to python\n",
        "x = 0\n",
        "y = 20\n",
        "\n",
        "while y >= 6:\n",
        "\ty -= 4\n",
        "\tx += 2 / y\n",
        "print(\"The value of x = \",x)"
      ]
    },
    {
      "cell_type": "code",
      "execution_count": null,
      "metadata": {
        "colab": {
          "base_uri": "https://localhost:8080/"
        },
        "id": "zVw8HHj0ar93",
        "outputId": "eee12bf2-db96-4a53-d556-b83b4ff036cf"
      },
      "outputs": [
        {
          "name": "stdout",
          "output_type": "stream",
          "text": [
            "The average of the numbers in the array is 3.0\n"
          ]
        }
      ],
      "source": [
        "#6 A program that uses a loop to continually input 5 values to populate an array\n",
        "#and calculates and displays the average of the values input into an array.--#\n",
        "\n",
        "numbers = []  # Initialize an empty list to store numbers\n",
        "for i in range(5):\n",
        "    num = float(input(f\"Enter number {i+1}: \"))  # Input number from user\n",
        "    numbers.append(num)  # Add the number to the list\n",
        "\n",
        "average = sum(numbers) / len(numbers)\n",
        "print(f\"The average of the numbers in the array is {average}\")\n"
      ]
    }
  ],
  "metadata": {
    "colab": {
      "provenance": []
    },
    "kernelspec": {
      "display_name": "Python 3",
      "name": "python3"
    },
    "language_info": {
      "codemirror_mode": {
        "name": "ipython",
        "version": 3
      },
      "file_extension": ".py",
      "mimetype": "text/x-python",
      "name": "python",
      "nbconvert_exporter": "python",
      "pygments_lexer": "ipython3",
      "version": "3.12.6"
    }
  },
  "nbformat": 4,
  "nbformat_minor": 0
}
